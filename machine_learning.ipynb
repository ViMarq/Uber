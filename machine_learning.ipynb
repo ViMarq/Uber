{
 "cells": [
  {
   "cell_type": "code",
   "execution_count": 1,
   "metadata": {},
   "outputs": [],
   "source": [
    "# Bibliotecas\n",
    "\n",
    "import pandas as pd\n",
    "import matplotlib.pyplot as plt\n",
    "from sklearn.tree import DecisionTreeRegressor\n",
    "from sklearn.metrics import r2_score\n",
    "from sklearn.model_selection import train_test_split\n",
    "from sklearn.metrics import mean_absolute_error, mean_absolute_percentage_error, root_mean_squared_error\n",
    "from sklearn.tree import DecisionTreeClassifier\n",
    "from sklearn.metrics import accuracy_score\n",
    "from sklearn.metrics import confusion_matrix\n",
    "from sklearn.tree import export_graphviz\n",
    "from sklearn.metrics import mean_squared_error\n",
    "from sklearn import tree\n",
    "import graphviz\n",
    "import seaborn as sns"
   ]
  },
  {
   "cell_type": "code",
   "execution_count": 2,
   "metadata": {},
   "outputs": [],
   "source": [
    "# Modelo de regressão linear\n",
    "\n",
    "# Carregando a base\n",
    "uber = pd.read_csv('dataset/UBER_TRATADO.csv',sep=',')"
   ]
  },
  {
   "cell_type": "code",
   "execution_count": 3,
   "metadata": {},
   "outputs": [
    {
     "name": "stdout",
     "output_type": "stream",
     "text": [
      "['fare_amount', 'pickup_longitude', 'pickup_latitude', 'dropoff_longitude', 'dropoff_latitude', 'passenger_count', 'dia', 'mes', 'ano', 'hora', 'minuto', 'distancia']\n",
      "Preço mínimo: 0.05\n",
      "Preço maximo: 1259.29\n"
     ]
    }
   ],
   "source": [
    "# Listar todas as colunas do dataset\n",
    "print(uber.columns.tolist())\n",
    "\n",
    "uber.drop(index=uber[uber['fare_amount'] == 0].index, inplace=True)\n",
    "minimo = uber['fare_amount'].min()\n",
    "maximo = uber['fare_amount'].max()\n",
    "print(f'Preço mínimo: {minimo}')\n",
    "print(f'Preço maximo: {maximo}')"
   ]
  },
  {
   "cell_type": "code",
   "execution_count": 5,
   "metadata": {},
   "outputs": [],
   "source": [
    "# Criação das variáveis de entrada (X) e saída (y)\n",
    "# Separar os dados em treino e teste\n",
    "X = uber[['distancia','passenger_count', 'mes']].values\n",
    "y = uber['fare_amount']\n",
    "X_train, X_test, y_train, y_test = train_test_split(X, y, test_size=0.3, random_state=42) #tamanho do teste alocado em 30%\n",
    "\n",
    "# Controi a arvore de decisao e a profundidade\n",
    "modelo = DecisionTreeRegressor(max_depth=3)\n",
    "modelo.fit(X_train, y_train)\n",
    "y_pred = modelo.predict(X_test)"
   ]
  },
  {
   "cell_type": "code",
   "execution_count": 6,
   "metadata": {},
   "outputs": [
    {
     "name": "stdout",
     "output_type": "stream",
     "text": [
      "   fare_amount  distancia\n",
      "9        18.07      0.302\n",
      "3        29.02      1.662\n",
      "8        35.59      2.251\n",
      "0        41.06      1.683\n",
      "1        42.16      2.458\n",
      "6        53.11      2.333\n",
      "7        68.44      4.889\n",
      "2        70.63      5.036\n",
      "4        87.60      4.475\n",
      "5       134.14     11.731\n"
     ]
    }
   ],
   "source": [
    "# Ordenando por ordem crescente de preço em relação a distancia\n",
    "print(uber[['fare_amount','distancia']].head(10).sort_values(by='fare_amount'))"
   ]
  },
  {
   "cell_type": "code",
   "execution_count": 7,
   "metadata": {},
   "outputs": [
    {
     "name": "stdout",
     "output_type": "stream",
     "text": [
      "Coeficiente de determinação (R²): 0.9261456999615041\n",
      "MSE = 1175.7666622012048\n",
      "MAPE = 0.2691428640385916\n",
      "MAE = 19.165194492841476\n",
      "RMSE = 34.28945409599291\n"
     ]
    }
   ],
   "source": [
    "# Determinacao do R² \n",
    "r2 = r2_score(y_test, y_pred)\n",
    "print('Coeficiente de determinação (R²):', r2)\n",
    "\n",
    "# Calculando o quadrado da diferença entre os valores das variáveis observada e a predita do modelo\n",
    "# OBS: acc = accuracy_score(y_test, y_pred) -->> Espera um valor booleano entre 0 e 1 e como os preço são número continuos não tem como usar acurácia.\n",
    "mse = mean_squared_error(y_test, y_pred)\n",
    "print(f'MSE = {mse}')\n",
    "\n",
    "# Calculo da média percentual absoluta do Erro. Ultilizada para fazer comparações entre erro percentuais do modelo entre produtos. \n",
    "mape = mean_absolute_percentage_error(y_test, y_pred)\n",
    "print(f'MAPE = {mape}')\n",
    "\n",
    "# Caculo da média dos erros absolutos(MAE). Ultilizada para medida em séries temporarias. \n",
    "mae = mean_absolute_error(y_test, y_pred)\n",
    "print(f'MAE = {mae}')\n",
    "\n",
    "# Calcula da raiz do erro quadrático cédio\n",
    "rmse  = root_mean_squared_error(y_test, y_pred)\n",
    "print(f'RMSE = {rmse}')\n",
    "\n",
    "\n",
    "# Ultilizar além do R² o calculos de métricas MAPE e MAE para base do comitê."
   ]
  }
 ],
 "metadata": {
  "kernelspec": {
   "display_name": ".env",
   "language": "python",
   "name": "python3"
  },
  "language_info": {
   "codemirror_mode": {
    "name": "ipython",
    "version": 3
   },
   "file_extension": ".py",
   "mimetype": "text/x-python",
   "name": "python",
   "nbconvert_exporter": "python",
   "pygments_lexer": "ipython3",
   "version": "3.12.2"
  }
 },
 "nbformat": 4,
 "nbformat_minor": 2
}
